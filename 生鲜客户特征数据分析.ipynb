{
 "cells": [
  {
   "cell_type": "code",
   "execution_count": 2,
   "metadata": {},
   "outputs": [],
   "source": [
    "import numpy as np\n",
    "import matplotlib.pyplot as plt\n",
    "import pandas as pd\n",
    "\n",
    "plt.style.use('seaborn')\n",
    "plt.rcParams['font.family'] = ['Arial Unicode MS', 'Microsoft Yahei', 'SimHei', 'sans-serif']\n",
    "\n",
    "%matplotlib inline"
   ]
  },
  {
   "cell_type": "code",
   "execution_count": 3,
   "metadata": {},
   "outputs": [
    {
     "data": {
      "text/html": [
       "\n",
       "<script>\n",
       "code_show=true;\n",
       "function code_toggle() {\n",
       " if (code_show){\n",
       " $('div.input').hide();\n",
       " } else {\n",
       " $('div.input').show();\n",
       " }\n",
       " code_show = !code_show\n",
       "}\n",
       "$( document ).ready(code_toggle);\n",
       "</script>\n",
       "<form action=\"javascript:code_toggle()\"><input type=\"submit\" value=\"点击按钮显示/隐藏文档代码！\"></form>"
      ],
      "text/plain": [
       "<IPython.core.display.HTML object>"
      ]
     },
     "metadata": {},
     "output_type": "display_data"
    }
   ],
   "source": [
    "%%HTML\n",
    "\n",
    "<script>\n",
    "code_show=true;\n",
    "function code_toggle() {\n",
    " if (code_show){\n",
    " $('div.input').hide();\n",
    " } else {\n",
    " $('div.input').show();\n",
    " }\n",
    " code_show = !code_show\n",
    "}\n",
    "$( document ).ready(code_toggle);\n",
    "</script>\n",
    "<form action=\"javascript:code_toggle()\"><input type=\"submit\" value=\"点击按钮显示/隐藏文档代码！\"></form>"
   ]
  },
  {
   "cell_type": "markdown",
   "metadata": {},
   "source": [
    "数取数据"
   ]
  },
  {
   "cell_type": "code",
   "execution_count": 4,
   "metadata": {
    "scrolled": false
   },
   "outputs": [
    {
     "data": {
      "text/plain": [
       "OrderedDict([('订单信息',          订单ID    客户ID  订单状态  优惠类型\n",
       "              0       47739    5245     1     0\n",
       "              1      341269    5245     0     0\n",
       "              2       32690    5254     1     0\n",
       "              3       45641    5254     1     0\n",
       "              4       66116    5254     1     0\n",
       "              5       79014    5254     1     0\n",
       "              6       79058    5254     0     0\n",
       "              7       79221    5254     1     0\n",
       "              8       79608    5254     1     0\n",
       "              9      146455    5254     1     0\n",
       "              10     148275    5254     1     0\n",
       "              11     149066    5254     1     1\n",
       "              12     240219    5286     1     1\n",
       "              13     287500    5286     1     0\n",
       "              14     287502    5286     0     0\n",
       "              15     290370    5286     0     0\n",
       "              16     290372    5286     0     0\n",
       "              17     378615    5286     0     0\n",
       "              18     378618    5286     0     0\n",
       "              19     378621    5286     0     0\n",
       "              20      66457    5292     1     0\n",
       "              21     211972    5292     0     1\n",
       "              22     226715    5292     1     0\n",
       "              23     237862    5292     0     1\n",
       "              24     246600    5292     1     0\n",
       "              25     248991    5292     0     1\n",
       "              26     249847    5292     1     1\n",
       "              27     256960    5292     1     1\n",
       "              28     422975    5292     1     0\n",
       "              29     148707    5474     1     0\n",
       "              ...       ...     ...   ...   ...\n",
       "              29120  445946  169197     0     1\n",
       "              29121  442081  169217     1     1\n",
       "              29122  442299  169269     1     1\n",
       "              29123  442333  169276     1     1\n",
       "              29124  442649  169299     0     1\n",
       "              29125  442726  169299     1     1\n",
       "              29126  443197  169318     1     1\n",
       "              29127  444034  169318     1     1\n",
       "              29128  443767  169393     0     1\n",
       "              29129  443770  169393     1     0\n",
       "              29130  443771  169393     1     0\n",
       "              29131  444237  169393     1     0\n",
       "              29132  443940  169445     0     1\n",
       "              29133  444077  169445     1     0\n",
       "              29134  445037  169445     0     0\n",
       "              29135  444721  169598     1     0\n",
       "              29136  445432  169598     0     1\n",
       "              29137  445444  169598     1     1\n",
       "              29138  444984  169613     1     1\n",
       "              29139  445427  169614     1     1\n",
       "              29140  445249  169691     1     1\n",
       "              29141  445279  169699     1     0\n",
       "              29142  447620  169699     1     1\n",
       "              29143  445884  169815     1     1\n",
       "              29144  447102  169832     1     1\n",
       "              29145  446758  169934     1     1\n",
       "              29146  446759  169934     1     0\n",
       "              29147  447165  169976     0     1\n",
       "              29148  447274  169976     0     1\n",
       "              29149  447375  169976     1     1\n",
       "              \n",
       "              [29150 rows x 4 columns]),\n",
       "             ('货物信息',         订单ID    货物ID      货物名称 优惠额度\n",
       "              0     264971  103247  自然乐园水果礼盒  >15\n",
       "              1     264994  103247  自然乐园水果礼盒  >15\n",
       "              2     266829  103247  自然乐园水果礼盒  >15\n",
       "              3     267232  103247  自然乐园水果礼盒  >15\n",
       "              4     269051  103247  自然乐园水果礼盒  >15\n",
       "              5     256809  101645       紫甘蓝  >15\n",
       "              6     256984  101645       紫甘蓝  >15\n",
       "              7     258700  101645       紫甘蓝  >15\n",
       "              8     268496  101645       紫甘蓝  >15\n",
       "              9     268510  101645       紫甘蓝  >15\n",
       "              10    275809  101645       紫甘蓝  >15\n",
       "              11    277573  101645       紫甘蓝  >15\n",
       "              12    284473  101645       紫甘蓝  >15\n",
       "              13    287662  101645       紫甘蓝  >15\n",
       "              14    287668  101645       紫甘蓝  >15\n",
       "              15    289079  101645       紫甘蓝  >15\n",
       "              16    290400  101645       紫甘蓝  >15\n",
       "              17    264515  103306        滋久  >15\n",
       "              18    266465  103306        滋久  >15\n",
       "              19    266994  103306        滋久  >15\n",
       "              20    272357  103306        滋久  >15\n",
       "              21    277529  103306        滋久  >15\n",
       "              22    258249  103305        滋久  >15\n",
       "              23    260035  103305        滋久  >15\n",
       "              24    263743  103305        滋久  >15\n",
       "              25    268881  103305        滋久  >15\n",
       "              26    271752  104052    猪蹄(一只)  >15\n",
       "              27    274915  104052    猪蹄(一只)  >15\n",
       "              28    276892  104052    猪蹄(一只)  >15\n",
       "              29    277573  104052    猪蹄(一只)  >15\n",
       "              ...      ...     ...       ...  ...\n",
       "              3100  284553  102103      冷冻鲜肉    0\n",
       "              3101  284927  102103      冷冻鲜肉    0\n",
       "              3102  285226  102103      冷冻鲜肉    0\n",
       "              3103  285307  102103      冷冻鲜肉    0\n",
       "              3104  285552  102103      冷冻鲜肉    0\n",
       "              3105  286058  102103      冷冻鲜肉    0\n",
       "              3106  286168  102103      冷冻鲜肉    0\n",
       "              3107  286815  102103      冷冻鲜肉    0\n",
       "              3108  287216  102103      冷冻鲜肉    0\n",
       "              3109  287519  102103      冷冻鲜肉    0\n",
       "              3110  291209  102103      冷冻鲜肉    0\n",
       "              3111  291234  102103      冷冻鲜肉    0\n",
       "              3112  291584  102103      冷冻鲜肉    0\n",
       "              3113  292142  102103      冷冻鲜肉    0\n",
       "              3114  284006  104323        牙签    0\n",
       "              3115  263864  103376   500元充值卡    0\n",
       "              3116  268178  103376   500元充值卡    0\n",
       "              3117  268277  103376   500元充值卡    0\n",
       "              3118  285796  103376   500元充值卡    0\n",
       "              3119  286098  103376   500元充值卡    0\n",
       "              3120  257077  103376   500元充值卡    0\n",
       "              3121  261240  103376   500元充值卡    0\n",
       "              3122  265594  103376   500元充值卡    0\n",
       "              3123  265982  103376   500元充值卡    0\n",
       "              3124  266432  103376   500元充值卡    0\n",
       "              3125  282903  103376   500元充值卡    0\n",
       "              3126  283994  103376   500元充值卡    0\n",
       "              3127  284171  103376   500元充值卡    0\n",
       "              3128  256095  103376   500元充值卡    0\n",
       "              3129  256499  103376   500元充值卡    0\n",
       "              \n",
       "              [3130 rows x 4 columns]),\n",
       "             ('顾客信息',\n",
       "                      客户ID   登陆次数  注册时间(距1970-1-1的秒数)  本次购买时间(距1970-1-1的秒数)    经验值  订单数\n",
       "              0       5245     55          1430413266            1495339734    206    1\n",
       "              1       5254     69          1430413266            1499041945    428   13\n",
       "              2       5286     57          1430413266            1509936376    280    1\n",
       "              3       5292    184          1430413266            1510135868    643    5\n",
       "              4       5474     71          1430413266            1481185064     61    2\n",
       "              5       5544    520          1430413266            1511065463   5033  103\n",
       "              6       5547     30          1430413266            1510577047    477    8\n",
       "              7       5552   2699          1430413266            1511245956  12673  164\n",
       "              8       5560     39          1430413266            1481811865     27    0\n",
       "              9       5580    137          1430413266            1506301413    236    2\n",
       "              10      5625    463          1430413266            1510935255   2087   14\n",
       "              11      5628    356          1430413266            1511145498  11494  166\n",
       "              12      5661  11675          1430413266            1511224143  34701  487\n",
       "              13      5690   1769          1430413266            1511175196  13398  182\n",
       "              14      5699    634          1430413266            1510274405   8415  121\n",
       "              15      5701     94          1430413266            1481201883    512    8\n",
       "              16      5723     29          1430413266            1488960790    163    2\n",
       "              17      5725   1372          1430413266            1510625605   9243  126\n",
       "              18      5726   1576          1430413266            1511162452  13078  193\n",
       "              19      5727    102          1430413266            1510223946   2574   37\n",
       "              20      5728    164          1430413266            1498397004    863   16\n",
       "              21      5734   1193          1430413266            1511169496   6852   86\n",
       "              22      5740    826          1430413266            1506164574   2309   19\n",
       "              23      5767     80          1430413266            1506216500   1681   17\n",
       "              24      5785     62          1430413266            1506783217    249    5\n",
       "              25      5789    170          1430413266            1511140849   1373   20\n",
       "              26      5804    730          1430413266            1511190699   2851   28\n",
       "              27      5816    374          1430413266            1508748129   1225   15\n",
       "              28      5880    206          1430413266            1511146306   3913   70\n",
       "              29      5912    288          1430413266            1510033445   1755   26\n",
       "              ...      ...    ...                 ...                   ...    ...  ...\n",
       "              2970  168758     18          1510124356            1510960789    105    2\n",
       "              2971  168792     15          1510136872            1510661772     60    1\n",
       "              2972  168831     78          1510182960            1511241351    635   10\n",
       "              2973  168834     12          1510187047            1511239077    102    3\n",
       "              2974  168948      6          1510233924            1510234362     48    1\n",
       "              2975  168976      7          1510275950            1511166273     66    3\n",
       "              2976  168981     30          1510278673            1511184888    146    2\n",
       "              2977  168991      6          1510280818            1510456811    129    3\n",
       "              2978  169031     10          1510287019            1510613142     27    1\n",
       "              2979  169049      7          1510292348            1510392612     43    1\n",
       "              2980  169084     11          1510303482            1510927533     94    1\n",
       "              2981  169106     23          1510312431            1511054357    215    2\n",
       "              2982  169132     18          1510324837            1511090706     75    2\n",
       "              2983  169197     38          1510373093            1510890780     66    1\n",
       "              2984  169217     28          1510377281            1510877581     38    1\n",
       "              2985  169269      4          1510388952            1510388952      7    1\n",
       "              2986  169276      6          1510391145            1511008391     50    1\n",
       "              2987  169299      9          1510397978            1511187978     27    1\n",
       "              2988  169318      8          1510407061            1510615622    154    2\n",
       "              2989  169393     14          1510464820            1511147607    187    3\n",
       "              2990  169445     13          1510487420            1510645072     84    1\n",
       "              2991  169598     35          1510618726            1510983354     63    2\n",
       "              2992  169613     11          1510627070            1510746988     12    1\n",
       "              2993  169614      9          1510627121            1510889773     33    1\n",
       "              2994  169691      6          1510657422            1510706666     73    1\n",
       "              2995  169699     20          1510662595            1511217077    153    3\n",
       "              2996  169815     13          1510753437            1511159975     57    1\n",
       "              2997  169832     12          1510793074            1511142183     62    1\n",
       "              2998  169934     14          1510841381            1510971292     68    2\n",
       "              2999  169976     16          1510908302            1511184987     27    1\n",
       "              \n",
       "              [3000 rows x 6 columns])])"
      ]
     },
     "execution_count": 4,
     "metadata": {},
     "output_type": "execute_result"
    }
   ],
   "source": [
    "# 数取数据\n",
    "shop = pd.read_excel('shopmall.xlsx', None)\n",
    "shop"
   ]
  },
  {
   "cell_type": "markdown",
   "metadata": {},
   "source": [
    "数据整体情况\n",
    "==="
   ]
  },
  {
   "cell_type": "markdown",
   "metadata": {},
   "source": [
    "订单信息：\n",
    "---\n",
    "* 订单ID\n",
    "* 客户ID\n",
    "* 订单状态\n",
    "    * 1表示正常完成订单\n",
    "    * 0表示未完成订单\n",
    "* 优惠类型\n",
    "    * 0表示无优惠\n",
    "    * 1表示优惠"
   ]
  },
  {
   "cell_type": "code",
   "execution_count": 5,
   "metadata": {},
   "outputs": [
    {
     "data": {
      "text/html": [
       "<div>\n",
       "<style scoped>\n",
       "    .dataframe tbody tr th:only-of-type {\n",
       "        vertical-align: middle;\n",
       "    }\n",
       "\n",
       "    .dataframe tbody tr th {\n",
       "        vertical-align: top;\n",
       "    }\n",
       "\n",
       "    .dataframe thead th {\n",
       "        text-align: right;\n",
       "    }\n",
       "</style>\n",
       "<table border=\"1\" class=\"dataframe\">\n",
       "  <thead>\n",
       "    <tr style=\"text-align: right;\">\n",
       "      <th></th>\n",
       "      <th>订单ID</th>\n",
       "      <th>客户ID</th>\n",
       "      <th>订单状态</th>\n",
       "      <th>优惠类型</th>\n",
       "    </tr>\n",
       "  </thead>\n",
       "  <tbody>\n",
       "    <tr>\n",
       "      <th>0</th>\n",
       "      <td>47739</td>\n",
       "      <td>5245</td>\n",
       "      <td>1</td>\n",
       "      <td>0</td>\n",
       "    </tr>\n",
       "    <tr>\n",
       "      <th>1</th>\n",
       "      <td>341269</td>\n",
       "      <td>5245</td>\n",
       "      <td>0</td>\n",
       "      <td>0</td>\n",
       "    </tr>\n",
       "    <tr>\n",
       "      <th>2</th>\n",
       "      <td>32690</td>\n",
       "      <td>5254</td>\n",
       "      <td>1</td>\n",
       "      <td>0</td>\n",
       "    </tr>\n",
       "    <tr>\n",
       "      <th>3</th>\n",
       "      <td>45641</td>\n",
       "      <td>5254</td>\n",
       "      <td>1</td>\n",
       "      <td>0</td>\n",
       "    </tr>\n",
       "    <tr>\n",
       "      <th>4</th>\n",
       "      <td>66116</td>\n",
       "      <td>5254</td>\n",
       "      <td>1</td>\n",
       "      <td>0</td>\n",
       "    </tr>\n",
       "  </tbody>\n",
       "</table>\n",
       "</div>"
      ],
      "text/plain": [
       "     订单ID  客户ID  订单状态  优惠类型\n",
       "0   47739  5245     1     0\n",
       "1  341269  5245     0     0\n",
       "2   32690  5254     1     0\n",
       "3   45641  5254     1     0\n",
       "4   66116  5254     1     0"
      ]
     },
     "execution_count": 5,
     "metadata": {},
     "output_type": "execute_result"
    }
   ],
   "source": [
    "dingdan = shop['订单信息']\n",
    "dingdan.head()"
   ]
  },
  {
   "cell_type": "code",
   "execution_count": 6,
   "metadata": {},
   "outputs": [
    {
     "name": "stdout",
     "output_type": "stream",
     "text": [
      "<class 'pandas.core.frame.DataFrame'>\n",
      "RangeIndex: 29150 entries, 0 to 29149\n",
      "Data columns (total 4 columns):\n",
      "订单ID    29150 non-null int64\n",
      "客户ID    29150 non-null int64\n",
      "订单状态    29150 non-null int64\n",
      "优惠类型    29150 non-null int64\n",
      "dtypes: int64(4)\n",
      "memory usage: 911.0 KB\n"
     ]
    }
   ],
   "source": [
    "dingdan.info()"
   ]
  },
  {
   "cell_type": "markdown",
   "metadata": {},
   "source": [
    "货物信息：\n",
    "----\n",
    "\n",
    "* 订单ID\n",
    "* 货物ID\n",
    "* 货物名称\n",
    "* 优惠额度\n",
    "    * 分组显示优惠额度"
   ]
  },
  {
   "cell_type": "code",
   "execution_count": 7,
   "metadata": {},
   "outputs": [
    {
     "data": {
      "text/html": [
       "<div>\n",
       "<style scoped>\n",
       "    .dataframe tbody tr th:only-of-type {\n",
       "        vertical-align: middle;\n",
       "    }\n",
       "\n",
       "    .dataframe tbody tr th {\n",
       "        vertical-align: top;\n",
       "    }\n",
       "\n",
       "    .dataframe thead th {\n",
       "        text-align: right;\n",
       "    }\n",
       "</style>\n",
       "<table border=\"1\" class=\"dataframe\">\n",
       "  <thead>\n",
       "    <tr style=\"text-align: right;\">\n",
       "      <th></th>\n",
       "      <th>订单ID</th>\n",
       "      <th>货物ID</th>\n",
       "      <th>货物名称</th>\n",
       "      <th>优惠额度</th>\n",
       "    </tr>\n",
       "  </thead>\n",
       "  <tbody>\n",
       "    <tr>\n",
       "      <th>0</th>\n",
       "      <td>264971</td>\n",
       "      <td>103247</td>\n",
       "      <td>自然乐园水果礼盒</td>\n",
       "      <td>&gt;15</td>\n",
       "    </tr>\n",
       "    <tr>\n",
       "      <th>1</th>\n",
       "      <td>264994</td>\n",
       "      <td>103247</td>\n",
       "      <td>自然乐园水果礼盒</td>\n",
       "      <td>&gt;15</td>\n",
       "    </tr>\n",
       "    <tr>\n",
       "      <th>2</th>\n",
       "      <td>266829</td>\n",
       "      <td>103247</td>\n",
       "      <td>自然乐园水果礼盒</td>\n",
       "      <td>&gt;15</td>\n",
       "    </tr>\n",
       "    <tr>\n",
       "      <th>3</th>\n",
       "      <td>267232</td>\n",
       "      <td>103247</td>\n",
       "      <td>自然乐园水果礼盒</td>\n",
       "      <td>&gt;15</td>\n",
       "    </tr>\n",
       "    <tr>\n",
       "      <th>4</th>\n",
       "      <td>269051</td>\n",
       "      <td>103247</td>\n",
       "      <td>自然乐园水果礼盒</td>\n",
       "      <td>&gt;15</td>\n",
       "    </tr>\n",
       "  </tbody>\n",
       "</table>\n",
       "</div>"
      ],
      "text/plain": [
       "     订单ID    货物ID      货物名称 优惠额度\n",
       "0  264971  103247  自然乐园水果礼盒  >15\n",
       "1  264994  103247  自然乐园水果礼盒  >15\n",
       "2  266829  103247  自然乐园水果礼盒  >15\n",
       "3  267232  103247  自然乐园水果礼盒  >15\n",
       "4  269051  103247  自然乐园水果礼盒  >15"
      ]
     },
     "execution_count": 7,
     "metadata": {},
     "output_type": "execute_result"
    }
   ],
   "source": [
    "huowu = shop['货物信息']\n",
    "huowu.head()"
   ]
  },
  {
   "cell_type": "code",
   "execution_count": 8,
   "metadata": {},
   "outputs": [
    {
     "name": "stdout",
     "output_type": "stream",
     "text": [
      "<class 'pandas.core.frame.DataFrame'>\n",
      "RangeIndex: 3130 entries, 0 to 3129\n",
      "Data columns (total 4 columns):\n",
      "订单ID    3130 non-null int64\n",
      "货物ID    3130 non-null int64\n",
      "货物名称    3130 non-null object\n",
      "优惠额度    3130 non-null object\n",
      "dtypes: int64(2), object(2)\n",
      "memory usage: 97.9+ KB\n"
     ]
    }
   ],
   "source": [
    "huowu.info()"
   ]
  },
  {
   "cell_type": "markdown",
   "metadata": {},
   "source": [
    "顾客信息：\n",
    "----\n",
    "\n",
    "* 客户ID\n",
    "* 登陆次数\n",
    "* 注册时间(距1970-1-1的秒数)\n",
    "* 本次购买时间(距1970-1-1的秒数)\n",
    "* 经验值\n",
    "* 订单数"
   ]
  },
  {
   "cell_type": "code",
   "execution_count": 9,
   "metadata": {},
   "outputs": [
    {
     "data": {
      "text/html": [
       "<div>\n",
       "<style scoped>\n",
       "    .dataframe tbody tr th:only-of-type {\n",
       "        vertical-align: middle;\n",
       "    }\n",
       "\n",
       "    .dataframe tbody tr th {\n",
       "        vertical-align: top;\n",
       "    }\n",
       "\n",
       "    .dataframe thead th {\n",
       "        text-align: right;\n",
       "    }\n",
       "</style>\n",
       "<table border=\"1\" class=\"dataframe\">\n",
       "  <thead>\n",
       "    <tr style=\"text-align: right;\">\n",
       "      <th></th>\n",
       "      <th>客户ID</th>\n",
       "      <th>登陆次数</th>\n",
       "      <th>注册时间(距1970-1-1的秒数)</th>\n",
       "      <th>本次购买时间(距1970-1-1的秒数)</th>\n",
       "      <th>经验值</th>\n",
       "      <th>订单数</th>\n",
       "    </tr>\n",
       "  </thead>\n",
       "  <tbody>\n",
       "    <tr>\n",
       "      <th>0</th>\n",
       "      <td>5245</td>\n",
       "      <td>55</td>\n",
       "      <td>1430413266</td>\n",
       "      <td>1495339734</td>\n",
       "      <td>206</td>\n",
       "      <td>1</td>\n",
       "    </tr>\n",
       "    <tr>\n",
       "      <th>1</th>\n",
       "      <td>5254</td>\n",
       "      <td>69</td>\n",
       "      <td>1430413266</td>\n",
       "      <td>1499041945</td>\n",
       "      <td>428</td>\n",
       "      <td>13</td>\n",
       "    </tr>\n",
       "    <tr>\n",
       "      <th>2</th>\n",
       "      <td>5286</td>\n",
       "      <td>57</td>\n",
       "      <td>1430413266</td>\n",
       "      <td>1509936376</td>\n",
       "      <td>280</td>\n",
       "      <td>1</td>\n",
       "    </tr>\n",
       "    <tr>\n",
       "      <th>3</th>\n",
       "      <td>5292</td>\n",
       "      <td>184</td>\n",
       "      <td>1430413266</td>\n",
       "      <td>1510135868</td>\n",
       "      <td>643</td>\n",
       "      <td>5</td>\n",
       "    </tr>\n",
       "    <tr>\n",
       "      <th>4</th>\n",
       "      <td>5474</td>\n",
       "      <td>71</td>\n",
       "      <td>1430413266</td>\n",
       "      <td>1481185064</td>\n",
       "      <td>61</td>\n",
       "      <td>2</td>\n",
       "    </tr>\n",
       "  </tbody>\n",
       "</table>\n",
       "</div>"
      ],
      "text/plain": [
       "   客户ID  登陆次数  注册时间(距1970-1-1的秒数)  本次购买时间(距1970-1-1的秒数)  经验值  订单数\n",
       "0  5245    55          1430413266            1495339734  206    1\n",
       "1  5254    69          1430413266            1499041945  428   13\n",
       "2  5286    57          1430413266            1509936376  280    1\n",
       "3  5292   184          1430413266            1510135868  643    5\n",
       "4  5474    71          1430413266            1481185064   61    2"
      ]
     },
     "execution_count": 9,
     "metadata": {},
     "output_type": "execute_result"
    }
   ],
   "source": [
    "guke = shop['顾客信息']\n",
    "guke.head()"
   ]
  },
  {
   "cell_type": "code",
   "execution_count": 10,
   "metadata": {},
   "outputs": [
    {
     "name": "stdout",
     "output_type": "stream",
     "text": [
      "<class 'pandas.core.frame.DataFrame'>\n",
      "RangeIndex: 3000 entries, 0 to 2999\n",
      "Data columns (total 6 columns):\n",
      "客户ID                    3000 non-null int64\n",
      "登陆次数                    3000 non-null int64\n",
      "注册时间(距1970-1-1的秒数)      3000 non-null int64\n",
      "本次购买时间(距1970-1-1的秒数)    3000 non-null int64\n",
      "经验值                     3000 non-null int64\n",
      "订单数                     3000 non-null int64\n",
      "dtypes: int64(6)\n",
      "memory usage: 140.7 KB\n"
     ]
    }
   ],
   "source": [
    "guke.info()"
   ]
  },
  {
   "cell_type": "markdown",
   "metadata": {},
   "source": [
    "订单信息分析\n",
    "-----"
   ]
  },
  {
   "cell_type": "markdown",
   "metadata": {},
   "source": [
    "客户匹配\n",
    "---\n",
    "\n",
    "“无价值客户”指标量化定义\n",
    "---\n",
    "\n",
    "当客户已成交订单中，优惠商品的订单超过75%时，定义客户为无价值客户\n",
    "\n",
    "#### 分离正常客户和无价值客户"
   ]
  },
  {
   "cell_type": "code",
   "execution_count": 11,
   "metadata": {
    "scrolled": false
   },
   "outputs": [
    {
     "name": "stdout",
     "output_type": "stream",
     "text": [
      "<class 'pandas.core.frame.DataFrame'>\n",
      "Int64Index: 24137 entries, 0 to 29149\n",
      "Data columns (total 4 columns):\n",
      "订单ID    24137 non-null int64\n",
      "客户ID    24137 non-null int64\n",
      "订单状态    24137 non-null int64\n",
      "优惠类型    24137 non-null int64\n",
      "dtypes: int64(4)\n",
      "memory usage: 942.9 KB\n"
     ]
    }
   ],
   "source": [
    "dingdan.head()\n",
    "# dingdan.info()\n",
    "dingdan2=dingdan[dingdan['订单状态']==1]\n",
    "dingdan2.info()"
   ]
  },
  {
   "cell_type": "markdown",
   "metadata": {},
   "source": [
    "#### 查询所有优惠订单比例大于等于0.75的客户id"
   ]
  },
  {
   "cell_type": "code",
   "execution_count": 12,
   "metadata": {},
   "outputs": [
    {
     "name": "stdout",
     "output_type": "stream",
     "text": [
      "<class 'pandas.core.frame.DataFrame'>\n",
      "Int64Index: 1669 entries, 5560 to 169976\n",
      "Data columns (total 3 columns):\n",
      "订单ID    1669 non-null int64\n",
      "订单状态    1669 non-null int64\n",
      "优惠类型    1669 non-null int64\n",
      "dtypes: int64(3)\n",
      "memory usage: 52.2 KB\n"
     ]
    }
   ],
   "source": [
    "dd_id=dingdan2.groupby('客户ID').sum()\n",
    "dd_id\n",
    "# dd_id[['订单状态','优惠类型']]\n",
    "\n",
    "wuxiao=dd_id[dd_id['优惠类型']/dd_id['订单状态']>=0.75] # 无价值客户\n",
    "wuxiao.info()"
   ]
  },
  {
   "cell_type": "code",
   "execution_count": 22,
   "metadata": {},
   "outputs": [
    {
     "name": "stdout",
     "output_type": "stream",
     "text": [
      "<class 'pandas.core.frame.DataFrame'>\n",
      "Int64Index: 3000 entries, 5245 to 169976\n",
      "Data columns (total 4 columns):\n",
      "订单ID    3000 non-null int64\n",
      "订单状态    3000 non-null int64\n",
      "优惠类型    3000 non-null int64\n",
      "客户类型    3000 non-null float64\n",
      "dtypes: float64(1), int64(3)\n",
      "memory usage: 197.2 KB\n"
     ]
    },
    {
     "data": {
      "text/html": [
       "<div>\n",
       "<style scoped>\n",
       "    .dataframe tbody tr th:only-of-type {\n",
       "        vertical-align: middle;\n",
       "    }\n",
       "\n",
       "    .dataframe tbody tr th {\n",
       "        vertical-align: top;\n",
       "    }\n",
       "\n",
       "    .dataframe thead th {\n",
       "        text-align: right;\n",
       "    }\n",
       "</style>\n",
       "<table border=\"1\" class=\"dataframe\">\n",
       "  <thead>\n",
       "    <tr style=\"text-align: right;\">\n",
       "      <th></th>\n",
       "      <th>客户ID</th>\n",
       "      <th>登陆次数</th>\n",
       "      <th>注册时间(距1970-1-1的秒数)</th>\n",
       "      <th>本次购买时间(距1970-1-1的秒数)</th>\n",
       "      <th>经验值</th>\n",
       "      <th>订单数</th>\n",
       "      <th>客户类型</th>\n",
       "    </tr>\n",
       "  </thead>\n",
       "  <tbody>\n",
       "    <tr>\n",
       "      <th>0</th>\n",
       "      <td>5245</td>\n",
       "      <td>55</td>\n",
       "      <td>1430413266</td>\n",
       "      <td>1495339734</td>\n",
       "      <td>206</td>\n",
       "      <td>1</td>\n",
       "      <td>1</td>\n",
       "    </tr>\n",
       "    <tr>\n",
       "      <th>1</th>\n",
       "      <td>5254</td>\n",
       "      <td>69</td>\n",
       "      <td>1430413266</td>\n",
       "      <td>1499041945</td>\n",
       "      <td>428</td>\n",
       "      <td>13</td>\n",
       "      <td>1</td>\n",
       "    </tr>\n",
       "    <tr>\n",
       "      <th>2</th>\n",
       "      <td>5286</td>\n",
       "      <td>57</td>\n",
       "      <td>1430413266</td>\n",
       "      <td>1509936376</td>\n",
       "      <td>280</td>\n",
       "      <td>1</td>\n",
       "      <td>1</td>\n",
       "    </tr>\n",
       "    <tr>\n",
       "      <th>3</th>\n",
       "      <td>5292</td>\n",
       "      <td>184</td>\n",
       "      <td>1430413266</td>\n",
       "      <td>1510135868</td>\n",
       "      <td>643</td>\n",
       "      <td>5</td>\n",
       "      <td>1</td>\n",
       "    </tr>\n",
       "    <tr>\n",
       "      <th>4</th>\n",
       "      <td>5474</td>\n",
       "      <td>71</td>\n",
       "      <td>1430413266</td>\n",
       "      <td>1481185064</td>\n",
       "      <td>61</td>\n",
       "      <td>2</td>\n",
       "      <td>1</td>\n",
       "    </tr>\n",
       "  </tbody>\n",
       "</table>\n",
       "</div>"
      ],
      "text/plain": [
       "   客户ID  登陆次数  注册时间(距1970-1-1的秒数)  本次购买时间(距1970-1-1的秒数)  经验值  订单数  客户类型\n",
       "0  5245    55          1430413266            1495339734  206    1     1\n",
       "1  5254    69          1430413266            1499041945  428   13     1\n",
       "2  5286    57          1430413266            1509936376  280    1     1\n",
       "3  5292   184          1430413266            1510135868  643    5     1\n",
       "4  5474    71          1430413266            1481185064   61    2     1"
      ]
     },
     "execution_count": 22,
     "metadata": {},
     "output_type": "execute_result"
    }
   ],
   "source": [
    "# 合并表\n",
    "dd_id.loc[wuxiao.index,'客户类型']=0# 新增一列，将无价值客户的值设为0\n",
    "dd_id=dd_id.fillna(1)# 缺失值为正常客户，值改为1\n",
    "dd_id.info()\n",
    "\n",
    "l = pd.DataFrame(dd_id['客户类型']).astype(np.int)\n",
    "guke2 = pd.merge(guke, l, left_on='客户ID', right_index=True)\n",
    "guke2.head()"
   ]
  },
  {
   "cell_type": "code",
   "execution_count": 24,
   "metadata": {},
   "outputs": [
    {
     "data": {
      "text/html": [
       "<div>\n",
       "<style scoped>\n",
       "    .dataframe tbody tr th:only-of-type {\n",
       "        vertical-align: middle;\n",
       "    }\n",
       "\n",
       "    .dataframe tbody tr th {\n",
       "        vertical-align: top;\n",
       "    }\n",
       "\n",
       "    .dataframe thead th {\n",
       "        text-align: right;\n",
       "    }\n",
       "</style>\n",
       "<table border=\"1\" class=\"dataframe\">\n",
       "  <thead>\n",
       "    <tr style=\"text-align: right;\">\n",
       "      <th></th>\n",
       "      <th>客户ID</th>\n",
       "      <th>登陆次数</th>\n",
       "      <th>注册时间(距1970-1-1的秒数)</th>\n",
       "      <th>本次购买时间(距1970-1-1的秒数)</th>\n",
       "      <th>经验值</th>\n",
       "      <th>订单数</th>\n",
       "      <th>客户类型</th>\n",
       "    </tr>\n",
       "  </thead>\n",
       "  <tbody>\n",
       "    <tr>\n",
       "      <th>count</th>\n",
       "      <td>3000.000000</td>\n",
       "      <td>3000.000000</td>\n",
       "      <td>3.000000e+03</td>\n",
       "      <td>3.000000e+03</td>\n",
       "      <td>3000.000000</td>\n",
       "      <td>3000.000000</td>\n",
       "      <td>3000.000000</td>\n",
       "    </tr>\n",
       "    <tr>\n",
       "      <th>mean</th>\n",
       "      <td>102669.020667</td>\n",
       "      <td>157.338333</td>\n",
       "      <td>1.474146e+09</td>\n",
       "      <td>1.496260e+09</td>\n",
       "      <td>672.358667</td>\n",
       "      <td>8.624000</td>\n",
       "      <td>0.443667</td>\n",
       "    </tr>\n",
       "    <tr>\n",
       "      <th>std</th>\n",
       "      <td>44547.168855</td>\n",
       "      <td>406.994135</td>\n",
       "      <td>1.609252e+07</td>\n",
       "      <td>1.269127e+07</td>\n",
       "      <td>1646.677601</td>\n",
       "      <td>24.914699</td>\n",
       "      <td>0.496899</td>\n",
       "    </tr>\n",
       "    <tr>\n",
       "      <th>min</th>\n",
       "      <td>5245.000000</td>\n",
       "      <td>4.000000</td>\n",
       "      <td>1.430413e+09</td>\n",
       "      <td>1.469535e+09</td>\n",
       "      <td>7.000000</td>\n",
       "      <td>0.000000</td>\n",
       "      <td>0.000000</td>\n",
       "    </tr>\n",
       "    <tr>\n",
       "      <th>25%</th>\n",
       "      <td>67114.250000</td>\n",
       "      <td>19.000000</td>\n",
       "      <td>1.465985e+09</td>\n",
       "      <td>1.482673e+09</td>\n",
       "      <td>51.000000</td>\n",
       "      <td>1.000000</td>\n",
       "      <td>0.000000</td>\n",
       "    </tr>\n",
       "    <tr>\n",
       "      <th>50%</th>\n",
       "      <td>123393.000000</td>\n",
       "      <td>46.000000</td>\n",
       "      <td>1.480582e+09</td>\n",
       "      <td>1.496886e+09</td>\n",
       "      <td>146.000000</td>\n",
       "      <td>2.000000</td>\n",
       "      <td>0.000000</td>\n",
       "    </tr>\n",
       "    <tr>\n",
       "      <th>75%</th>\n",
       "      <td>130771.250000</td>\n",
       "      <td>131.000000</td>\n",
       "      <td>1.481637e+09</td>\n",
       "      <td>1.510270e+09</td>\n",
       "      <td>593.250000</td>\n",
       "      <td>6.000000</td>\n",
       "      <td>1.000000</td>\n",
       "    </tr>\n",
       "    <tr>\n",
       "      <th>max</th>\n",
       "      <td>169976.000000</td>\n",
       "      <td>11675.000000</td>\n",
       "      <td>1.510908e+09</td>\n",
       "      <td>1.511247e+09</td>\n",
       "      <td>34701.000000</td>\n",
       "      <td>534.000000</td>\n",
       "      <td>1.000000</td>\n",
       "    </tr>\n",
       "  </tbody>\n",
       "</table>\n",
       "</div>"
      ],
      "text/plain": [
       "                客户ID          登陆次数  注册时间(距1970-1-1的秒数)  本次购买时间(距1970-1-1的秒数)  \\\n",
       "count    3000.000000   3000.000000        3.000000e+03          3.000000e+03   \n",
       "mean   102669.020667    157.338333        1.474146e+09          1.496260e+09   \n",
       "std     44547.168855    406.994135        1.609252e+07          1.269127e+07   \n",
       "min      5245.000000      4.000000        1.430413e+09          1.469535e+09   \n",
       "25%     67114.250000     19.000000        1.465985e+09          1.482673e+09   \n",
       "50%    123393.000000     46.000000        1.480582e+09          1.496886e+09   \n",
       "75%    130771.250000    131.000000        1.481637e+09          1.510270e+09   \n",
       "max    169976.000000  11675.000000        1.510908e+09          1.511247e+09   \n",
       "\n",
       "                经验值          订单数         客户类型  \n",
       "count   3000.000000  3000.000000  3000.000000  \n",
       "mean     672.358667     8.624000     0.443667  \n",
       "std     1646.677601    24.914699     0.496899  \n",
       "min        7.000000     0.000000     0.000000  \n",
       "25%       51.000000     1.000000     0.000000  \n",
       "50%      146.000000     2.000000     0.000000  \n",
       "75%      593.250000     6.000000     1.000000  \n",
       "max    34701.000000   534.000000     1.000000  "
      ]
     },
     "execution_count": 24,
     "metadata": {},
     "output_type": "execute_result"
    }
   ],
   "source": [
    "guke2.describe()"
   ]
  },
  {
   "cell_type": "markdown",
   "metadata": {},
   "source": [
    "客户特征分析\n",
    "---\n",
    "\n",
    "分析正常客户和无价值客户的特征和行为差异"
   ]
  },
  {
   "cell_type": "markdown",
   "metadata": {},
   "source": [
    "#### 正常客户和无价值客户比例"
   ]
  },
  {
   "cell_type": "code",
   "execution_count": 25,
   "metadata": {},
   "outputs": [
    {
     "data": {
      "text/plain": [
       "客户类型\n",
       "0    1669\n",
       "1    1331\n",
       "dtype: int64"
      ]
     },
     "execution_count": 25,
     "metadata": {},
     "output_type": "execute_result"
    }
   ],
   "source": [
    "gukeLen = guke2.groupby('客户类型').size()\n",
    "gukeLen"
   ]
  },
  {
   "cell_type": "code",
   "execution_count": 27,
   "metadata": {},
   "outputs": [
    {
     "data": {
      "text/plain": [
       "客户类型\n",
       "无价值客户    0.556333\n",
       "正常客户     0.443667\n",
       "dtype: float64"
      ]
     },
     "execution_count": 27,
     "metadata": {},
     "output_type": "execute_result"
    }
   ],
   "source": [
    "gukeS = gukeLen / gukeLen.sum()\n",
    "gukeS = gukeS.rename({0:'无价值客户', 1:'正常客户'})\n",
    "gukeS"
   ]
  },
  {
   "cell_type": "code",
   "execution_count": 28,
   "metadata": {},
   "outputs": [
    {
     "data": {
      "text/plain": [
       "<matplotlib.axes._subplots.AxesSubplot at 0xb8c3b38>"
      ]
     },
     "execution_count": 28,
     "metadata": {},
     "output_type": "execute_result"
    },
    {
     "data": {
      "image/png": "[encoded data removed]",
      "text/plain": [
       "<matplotlib.figure.Figure at 0xb8c3160>"
      ]
     },
     "metadata": {},
     "output_type": "display_data"
    }
   ],
   "source": [
    "gukeS.plot.pie(autopct='%1.1f%%',)"
   ]
  },
  {
   "cell_type": "markdown",
   "metadata": {},
   "source": [
    "根据 客户类别 分组各列，求平均值"
   ]
  },
  {
   "cell_type": "code",
   "execution_count": 29,
   "metadata": {},
   "outputs": [
    {
     "data": {
      "text/html": [
       "<div>\n",
       "<style scoped>\n",
       "    .dataframe tbody tr th:only-of-type {\n",
       "        vertical-align: middle;\n",
       "    }\n",
       "\n",
       "    .dataframe tbody tr th {\n",
       "        vertical-align: top;\n",
       "    }\n",
       "\n",
       "    .dataframe thead th {\n",
       "        text-align: right;\n",
       "    }\n",
       "</style>\n",
       "<table border=\"1\" class=\"dataframe\">\n",
       "  <thead>\n",
       "    <tr style=\"text-align: right;\">\n",
       "      <th></th>\n",
       "      <th>客户ID</th>\n",
       "      <th>登陆次数</th>\n",
       "      <th>注册时间(距1970-1-1的秒数)</th>\n",
       "      <th>本次购买时间(距1970-1-1的秒数)</th>\n",
       "      <th>经验值</th>\n",
       "      <th>订单数</th>\n",
       "    </tr>\n",
       "    <tr>\n",
       "      <th>客户类型</th>\n",
       "      <th></th>\n",
       "      <th></th>\n",
       "      <th></th>\n",
       "      <th></th>\n",
       "      <th></th>\n",
       "      <th></th>\n",
       "    </tr>\n",
       "  </thead>\n",
       "  <tbody>\n",
       "    <tr>\n",
       "      <th>0</th>\n",
       "      <td>121276.815458</td>\n",
       "      <td>77.547633</td>\n",
       "      <td>1.479904e+09</td>\n",
       "      <td>1.491441e+09</td>\n",
       "      <td>259.021570</td>\n",
       "      <td>2.980827</td>\n",
       "    </tr>\n",
       "    <tr>\n",
       "      <th>1</th>\n",
       "      <td>79335.880541</td>\n",
       "      <td>257.391435</td>\n",
       "      <td>1.466927e+09</td>\n",
       "      <td>1.502303e+09</td>\n",
       "      <td>1190.660406</td>\n",
       "      <td>15.700225</td>\n",
       "    </tr>\n",
       "  </tbody>\n",
       "</table>\n",
       "</div>"
      ],
      "text/plain": [
       "               客户ID        登陆次数  注册时间(距1970-1-1的秒数)  本次购买时间(距1970-1-1的秒数)  \\\n",
       "客户类型                                                                        \n",
       "0     121276.815458   77.547633        1.479904e+09          1.491441e+09   \n",
       "1      79335.880541  257.391435        1.466927e+09          1.502303e+09   \n",
       "\n",
       "              经验值        订单数  \n",
       "客户类型                          \n",
       "0      259.021570   2.980827  \n",
       "1     1190.660406  15.700225  "
      ]
     },
     "execution_count": 29,
     "metadata": {},
     "output_type": "execute_result"
    }
   ],
   "source": [
    "gukeMean = guke2.groupby('客户类型').mean()\n",
    "gukeMean"
   ]
  },
  {
   "cell_type": "markdown",
   "metadata": {},
   "source": [
    "#### 年平均登陆次数差异"
   ]
  },
  {
   "cell_type": "code",
   "execution_count": 30,
   "metadata": {},
   "outputs": [
    {
     "data": {
      "text/plain": [
       "([<matplotlib.axis.XTick at 0xb9212b0>, <matplotlib.axis.XTick at 0xb928048>],\n",
       " <a list of 2 Text xticklabel objects>)"
      ]
     },
     "execution_count": 30,
     "metadata": {},
     "output_type": "execute_result"
    },
    {
     "data": {
      "image/png": "[encoded data removed]",
      "text/plain": [
       "<matplotlib.figure.Figure at 0xb4065c0>"
      ]
     },
     "metadata": {},
     "output_type": "display_data"
    }
   ],
   "source": [
    "gukeMean['登陆次数']\n",
    "gukeMean['登陆次数'].plot.bar()\n",
    "plt.xticks([0,1],['无价值客户','正常客户'])"
   ]
  },
  {
   "cell_type": "markdown",
   "metadata": {},
   "source": [
    "#### 用户平均经验值差异"
   ]
  },
  {
   "cell_type": "code",
   "execution_count": 32,
   "metadata": {},
   "outputs": [
    {
     "data": {
      "text/plain": [
       "客户类型\n",
       "0     259.021570\n",
       "1    1190.660406\n",
       "Name: 经验值, dtype: float64"
      ]
     },
     "execution_count": 32,
     "metadata": {},
     "output_type": "execute_result"
    }
   ],
   "source": [
    "gukeMean['经验值']"
   ]
  },
  {
   "cell_type": "code",
   "execution_count": 33,
   "metadata": {},
   "outputs": [
    {
     "data": {
      "text/plain": [
       "([<matplotlib.axis.XTick at 0xbb58b70>, <matplotlib.axis.XTick at 0xbb89fd0>],\n",
       " <a list of 2 Text xticklabel objects>)"
      ]
     },
     "execution_count": 33,
     "metadata": {},
     "output_type": "execute_result"
    },
    {
     "data": {
      "image/png": "[encoded data removed]",
      "text/plain": [
       "<matplotlib.figure.Figure at 0xb90bef0>"
      ]
     },
     "metadata": {},
     "output_type": "display_data"
    }
   ],
   "source": [
    "gukeMean['经验值'].plot.bar()\n",
    "plt.xticks([0,1],['无价值客户','正常客户'])"
   ]
  },
  {
   "cell_type": "markdown",
   "metadata": {},
   "source": [
    "#### 用户平均订单数差异"
   ]
  },
  {
   "cell_type": "code",
   "execution_count": 34,
   "metadata": {},
   "outputs": [
    {
     "data": {
      "text/plain": [
       "([<matplotlib.axis.XTick at 0xbbae978>, <matplotlib.axis.XTick at 0xbbebe10>],\n",
       " <a list of 2 Text xticklabel objects>)"
      ]
     },
     "execution_count": 34,
     "metadata": {},
     "output_type": "execute_result"
    },
    {
     "data": {
      "image/png": "[encoded data removed]",
      "text/plain": [
       "<matplotlib.figure.Figure at 0xb8c8748>"
      ]
     },
     "metadata": {},
     "output_type": "display_data"
    }
   ],
   "source": [
    "gukeMean['订单数']\n",
    "gukeMean['订单数'].plot.bar()\n",
    "plt.xticks([0,1],['无价值客户','正常客户'])"
   ]
  },
  {
   "cell_type": "markdown",
   "metadata": {},
   "source": [
    "### 关于注册时间方面的分析\n",
    "\n",
    "* 注册时间和购买时间差异\n",
    "* 注册后当天购买的人"
   ]
  },
  {
   "cell_type": "code",
   "execution_count": 35,
   "metadata": {},
   "outputs": [
    {
     "data": {
      "text/html": [
       "<div>\n",
       "<style scoped>\n",
       "    .dataframe tbody tr th:only-of-type {\n",
       "        vertical-align: middle;\n",
       "    }\n",
       "\n",
       "    .dataframe tbody tr th {\n",
       "        vertical-align: top;\n",
       "    }\n",
       "\n",
       "    .dataframe thead th {\n",
       "        text-align: right;\n",
       "    }\n",
       "</style>\n",
       "<table border=\"1\" class=\"dataframe\">\n",
       "  <thead>\n",
       "    <tr style=\"text-align: right;\">\n",
       "      <th></th>\n",
       "      <th>客户ID</th>\n",
       "      <th>登陆次数</th>\n",
       "      <th>注册时间(距1970-1-1的秒数)</th>\n",
       "      <th>本次购买时间(距1970-1-1的秒数)</th>\n",
       "      <th>经验值</th>\n",
       "      <th>订单数</th>\n",
       "      <th>客户类型</th>\n",
       "      <th>间隔时间</th>\n",
       "    </tr>\n",
       "  </thead>\n",
       "  <tbody>\n",
       "    <tr>\n",
       "      <th>0</th>\n",
       "      <td>5245</td>\n",
       "      <td>55</td>\n",
       "      <td>1430413266</td>\n",
       "      <td>1495339734</td>\n",
       "      <td>206</td>\n",
       "      <td>1</td>\n",
       "      <td>1</td>\n",
       "      <td>64926468</td>\n",
       "    </tr>\n",
       "    <tr>\n",
       "      <th>1</th>\n",
       "      <td>5254</td>\n",
       "      <td>69</td>\n",
       "      <td>1430413266</td>\n",
       "      <td>1499041945</td>\n",
       "      <td>428</td>\n",
       "      <td>13</td>\n",
       "      <td>1</td>\n",
       "      <td>68628679</td>\n",
       "    </tr>\n",
       "    <tr>\n",
       "      <th>2</th>\n",
       "      <td>5286</td>\n",
       "      <td>57</td>\n",
       "      <td>1430413266</td>\n",
       "      <td>1509936376</td>\n",
       "      <td>280</td>\n",
       "      <td>1</td>\n",
       "      <td>1</td>\n",
       "      <td>79523110</td>\n",
       "    </tr>\n",
       "    <tr>\n",
       "      <th>3</th>\n",
       "      <td>5292</td>\n",
       "      <td>184</td>\n",
       "      <td>1430413266</td>\n",
       "      <td>1510135868</td>\n",
       "      <td>643</td>\n",
       "      <td>5</td>\n",
       "      <td>1</td>\n",
       "      <td>79722602</td>\n",
       "    </tr>\n",
       "    <tr>\n",
       "      <th>4</th>\n",
       "      <td>5474</td>\n",
       "      <td>71</td>\n",
       "      <td>1430413266</td>\n",
       "      <td>1481185064</td>\n",
       "      <td>61</td>\n",
       "      <td>2</td>\n",
       "      <td>1</td>\n",
       "      <td>50771798</td>\n",
       "    </tr>\n",
       "  </tbody>\n",
       "</table>\n",
       "</div>"
      ],
      "text/plain": [
       "   客户ID  登陆次数  注册时间(距1970-1-1的秒数)  本次购买时间(距1970-1-1的秒数)  经验值  订单数  客户类型  \\\n",
       "0  5245    55          1430413266            1495339734  206    1     1   \n",
       "1  5254    69          1430413266            1499041945  428   13     1   \n",
       "2  5286    57          1430413266            1509936376  280    1     1   \n",
       "3  5292   184          1430413266            1510135868  643    5     1   \n",
       "4  5474    71          1430413266            1481185064   61    2     1   \n",
       "\n",
       "       间隔时间  \n",
       "0  64926468  \n",
       "1  68628679  \n",
       "2  79523110  \n",
       "3  79722602  \n",
       "4  50771798  "
      ]
     },
     "execution_count": 35,
     "metadata": {},
     "output_type": "execute_result"
    }
   ],
   "source": [
    "# 计算注册和购买间隔时间\n",
    "guke2['间隔时间'] = guke2['本次购买时间(距1970-1-1的秒数)'] - guke2['注册时间(距1970-1-1的秒数)']\n",
    "guke2.head()"
   ]
  },
  {
   "cell_type": "code",
   "execution_count": 36,
   "metadata": {},
   "outputs": [
    {
     "data": {
      "text/plain": [
       "Text(0.5,1,'时间间隔（天）')"
      ]
     },
     "execution_count": 36,
     "metadata": {},
     "output_type": "execute_result"
    },
    {
     "data": {
      "image/png": "[encoded data removed]",
      "text/plain": [
       "<matplotlib.figure.Figure at 0xb8c09b0>"
      ]
     },
     "metadata": {},
     "output_type": "display_data"
    }
   ],
   "source": [
    "# 无价值客户和正常客户平均注册到购买的时间间隔（天）\n",
    "a=guke2.groupby('客户类型')['间隔时间'].mean() / (24 * 3600)\n",
    "a.plot.bar()\n",
    "plt.xticks([0,1],['无价值客户','正常客户'])\n",
    "plt.title('时间间隔（天）')"
   ]
  },
  {
   "cell_type": "markdown",
   "metadata": {},
   "source": [
    "注册后当天购买的人"
   ]
  },
  {
   "cell_type": "code",
   "execution_count": 39,
   "metadata": {},
   "outputs": [
    {
     "data": {
      "text/html": [
       "<div>\n",
       "<style scoped>\n",
       "    .dataframe tbody tr th:only-of-type {\n",
       "        vertical-align: middle;\n",
       "    }\n",
       "\n",
       "    .dataframe tbody tr th {\n",
       "        vertical-align: top;\n",
       "    }\n",
       "\n",
       "    .dataframe thead th {\n",
       "        text-align: right;\n",
       "    }\n",
       "</style>\n",
       "<table border=\"1\" class=\"dataframe\">\n",
       "  <thead>\n",
       "    <tr style=\"text-align: right;\">\n",
       "      <th></th>\n",
       "      <th>客户ID</th>\n",
       "      <th>登陆次数</th>\n",
       "      <th>注册时间(距1970-1-1的秒数)</th>\n",
       "      <th>本次购买时间(距1970-1-1的秒数)</th>\n",
       "      <th>经验值</th>\n",
       "      <th>订单数</th>\n",
       "      <th>客户类型</th>\n",
       "      <th>间隔时间</th>\n",
       "      <th>是否当天购买</th>\n",
       "    </tr>\n",
       "  </thead>\n",
       "  <tbody>\n",
       "    <tr>\n",
       "      <th>0</th>\n",
       "      <td>5245</td>\n",
       "      <td>55</td>\n",
       "      <td>1430413266</td>\n",
       "      <td>1495339734</td>\n",
       "      <td>206</td>\n",
       "      <td>1</td>\n",
       "      <td>1</td>\n",
       "      <td>64926468</td>\n",
       "      <td>0</td>\n",
       "    </tr>\n",
       "    <tr>\n",
       "      <th>1</th>\n",
       "      <td>5254</td>\n",
       "      <td>69</td>\n",
       "      <td>1430413266</td>\n",
       "      <td>1499041945</td>\n",
       "      <td>428</td>\n",
       "      <td>13</td>\n",
       "      <td>1</td>\n",
       "      <td>68628679</td>\n",
       "      <td>0</td>\n",
       "    </tr>\n",
       "    <tr>\n",
       "      <th>2</th>\n",
       "      <td>5286</td>\n",
       "      <td>57</td>\n",
       "      <td>1430413266</td>\n",
       "      <td>1509936376</td>\n",
       "      <td>280</td>\n",
       "      <td>1</td>\n",
       "      <td>1</td>\n",
       "      <td>79523110</td>\n",
       "      <td>0</td>\n",
       "    </tr>\n",
       "    <tr>\n",
       "      <th>3</th>\n",
       "      <td>5292</td>\n",
       "      <td>184</td>\n",
       "      <td>1430413266</td>\n",
       "      <td>1510135868</td>\n",
       "      <td>643</td>\n",
       "      <td>5</td>\n",
       "      <td>1</td>\n",
       "      <td>79722602</td>\n",
       "      <td>0</td>\n",
       "    </tr>\n",
       "    <tr>\n",
       "      <th>4</th>\n",
       "      <td>5474</td>\n",
       "      <td>71</td>\n",
       "      <td>1430413266</td>\n",
       "      <td>1481185064</td>\n",
       "      <td>61</td>\n",
       "      <td>2</td>\n",
       "      <td>1</td>\n",
       "      <td>50771798</td>\n",
       "      <td>0</td>\n",
       "    </tr>\n",
       "  </tbody>\n",
       "</table>\n",
       "</div>"
      ],
      "text/plain": [
       "   客户ID  登陆次数  注册时间(距1970-1-1的秒数)  本次购买时间(距1970-1-1的秒数)  经验值  订单数  客户类型  \\\n",
       "0  5245    55          1430413266            1495339734  206    1     1   \n",
       "1  5254    69          1430413266            1499041945  428   13     1   \n",
       "2  5286    57          1430413266            1509936376  280    1     1   \n",
       "3  5292   184          1430413266            1510135868  643    5     1   \n",
       "4  5474    71          1430413266            1481185064   61    2     1   \n",
       "\n",
       "       间隔时间  是否当天购买  \n",
       "0  64926468       0  \n",
       "1  68628679       0  \n",
       "2  79523110       0  \n",
       "3  79722602       0  \n",
       "4  50771798       0  "
      ]
     },
     "execution_count": 39,
     "metadata": {},
     "output_type": "execute_result"
    }
   ],
   "source": [
    "dangtian = guke2['间隔时间'] <= 24*3600\n",
    "dangtian\n",
    "\n",
    "def tihuan(x):\n",
    "    return np.where(x == True, 1, 0)\n",
    "dangtian2 = dangtian.apply(tihuan)\n",
    "\n",
    "guke2['是否当天购买'] = dangtian2\n",
    "guke2.head()"
   ]
  },
  {
   "cell_type": "code",
   "execution_count": 40,
   "metadata": {},
   "outputs": [],
   "source": [
    "a=guke2.groupby('客户类型')['是否当天购买'].mean()"
   ]
  },
  {
   "cell_type": "code",
   "execution_count": 41,
   "metadata": {},
   "outputs": [
    {
     "data": {
      "text/plain": [
       "Text(0.5,1,'是否当天购买')"
      ]
     },
     "execution_count": 41,
     "metadata": {},
     "output_type": "execute_result"
    },
    {
     "data": {
      "image/png": "[encoded data removed]",
      "text/plain": [
       "<matplotlib.figure.Figure at 0xbe35b70>"
      ]
     },
     "metadata": {},
     "output_type": "display_data"
    }
   ],
   "source": [
    "a.plot.bar()\n",
    "plt.xticks([0,1],['无价值客户','正常客户'])\n",
    "plt.title('是否当天购买')"
   ]
  },
  {
   "cell_type": "markdown",
   "metadata": {},
   "source": [
    "结论：\n",
    "\n",
    "* 无价值客户有18.3%注册后当天购物\n",
    "* 正常客户有0.75%注册后当天购物\n",
    "\n",
    "正常客户一般不在注册后当天购物"
   ]
  },
  {
   "cell_type": "code",
   "execution_count": null,
   "metadata": {},
   "outputs": [],
   "source": []
  },
  {
   "cell_type": "code",
   "execution_count": null,
   "metadata": {},
   "outputs": [],
   "source": []
  },
  {
   "cell_type": "code",
   "execution_count": null,
   "metadata": {},
   "outputs": [],
   "source": []
  },
  {
   "cell_type": "code",
   "execution_count": null,
   "metadata": {},
   "outputs": [],
   "source": []
  },
  {
   "cell_type": "code",
   "execution_count": null,
   "metadata": {},
   "outputs": [],
   "source": []
  },
  {
   "cell_type": "code",
   "execution_count": null,
   "metadata": {},
   "outputs": [],
   "source": []
  },
  {
   "cell_type": "code",
   "execution_count": null,
   "metadata": {},
   "outputs": [],
   "source": []
  },
  {
   "cell_type": "code",
   "execution_count": null,
   "metadata": {},
   "outputs": [],
   "source": []
  },
  {
   "cell_type": "code",
   "execution_count": null,
   "metadata": {},
   "outputs": [],
   "source": []
  },
  {
   "cell_type": "code",
   "execution_count": null,
   "metadata": {},
   "outputs": [],
   "source": []
  },
  {
   "cell_type": "code",
   "execution_count": null,
   "metadata": {},
   "outputs": [],
   "source": []
  },
  {
   "cell_type": "code",
   "execution_count": null,
   "metadata": {},
   "outputs": [],
   "source": []
  },
  {
   "cell_type": "markdown",
   "metadata": {},
   "source": [
    "---\n",
    "\n",
    "研究方法\n",
    "---\n",
    "\n",
    "### 订单分析\n",
    "\n",
    "\n",
    "#### 分析订单的优惠额度"
   ]
  },
  {
   "cell_type": "code",
   "execution_count": null,
   "metadata": {},
   "outputs": [],
   "source": []
  },
  {
   "cell_type": "code",
   "execution_count": 14,
   "metadata": {},
   "outputs": [
    {
     "data": {
      "text/plain": [
       "优惠额度\n",
       "0        1439\n",
       "0-2       584\n",
       "10-15      38\n",
       "2-5       596\n",
       "5-10      310\n",
       ">15       163\n",
       "dtype: int64"
      ]
     },
     "execution_count": 14,
     "metadata": {},
     "output_type": "execute_result"
    }
   ],
   "source": [
    "youhui = huowu.groupby('优惠额度').size()\n",
    "youhui"
   ]
  },
  {
   "cell_type": "code",
   "execution_count": 16,
   "metadata": {},
   "outputs": [
    {
     "data": {
      "text/plain": [
       "<matplotlib.axes._subplots.AxesSubplot at 0x90f39e8>"
      ]
     },
     "execution_count": 16,
     "metadata": {},
     "output_type": "execute_result"
    },
    {
     "data": {
      "image/png": "[encoded data removed]",
      "text/plain": [
       "<matplotlib.figure.Figure at 0xaf10470>"
      ]
     },
     "metadata": {},
     "output_type": "display_data"
    }
   ],
   "source": [
    "youhui.plot.pie(label = '优惠额度（元）',autopct='%1.1f%%',explode=(0.1,0,0,0,0,0))"
   ]
  },
  {
   "cell_type": "markdown",
   "metadata": {},
   "source": [
    "### 分析订单商品排行"
   ]
  },
  {
   "cell_type": "code",
   "execution_count": 17,
   "metadata": {},
   "outputs": [
    {
     "data": {
      "text/plain": [
       "优惠额度\n",
       "0        1439\n",
       "0-2       584\n",
       "10-15      38\n",
       "2-5       596\n",
       "5-10      310\n",
       ">15       163\n",
       "dtype: int64"
      ]
     },
     "execution_count": 17,
     "metadata": {},
     "output_type": "execute_result"
    }
   ],
   "source": [
    "huowu.groupby('优惠额度').size()"
   ]
  },
  {
   "cell_type": "markdown",
   "metadata": {},
   "source": [
    "#### 原价商品销量前5排名"
   ]
  },
  {
   "cell_type": "code",
   "execution_count": 18,
   "metadata": {},
   "outputs": [],
   "source": [
    "y = huowu[huowu['优惠额度'] == '0']\n",
    "# y.groupby('货物名称')\n",
    "\n",
    "a=y.groupby('货物名称').size().sort_values(ascending=False)[:5]"
   ]
  },
  {
   "cell_type": "code",
   "execution_count": 19,
   "metadata": {},
   "outputs": [
    {
     "data": {
      "text/plain": [
       "Text(0.5,1,'原价商品销量')"
      ]
     },
     "execution_count": 19,
     "metadata": {},
     "output_type": "execute_result"
    },
    {
     "data": {
      "image/png": "[encoded data removed]",
      "text/plain": [
       "<matplotlib.figure.Figure at 0x90e82b0>"
      ]
     },
     "metadata": {},
     "output_type": "display_data"
    }
   ],
   "source": [
    "a.plot.bar()\n",
    "plt.title('原价商品销量')"
   ]
  },
  {
   "cell_type": "markdown",
   "metadata": {},
   "source": [
    "#### 优惠商品销量前10排名"
   ]
  },
  {
   "cell_type": "code",
   "execution_count": 20,
   "metadata": {},
   "outputs": [
    {
     "data": {
      "text/plain": [
       "货物名称\n",
       "蒲江耙耙柑             118\n",
       "蒲江不知火丑柑【原产地直供】     61\n",
       "藕                  54\n",
       "青椒                 41\n",
       "小葱                 39\n",
       "dtype: int64"
      ]
     },
     "execution_count": 20,
     "metadata": {},
     "output_type": "execute_result"
    }
   ],
   "source": [
    "a=huowu[-(huowu['优惠额度'] == '0')].groupby('货物名称').size().sort_values(ascending=False)[:5]\n",
    "a"
   ]
  },
  {
   "cell_type": "code",
   "execution_count": 21,
   "metadata": {},
   "outputs": [
    {
     "data": {
      "text/plain": [
       "Text(0.5,1,'优惠商品销量')"
      ]
     },
     "execution_count": 21,
     "metadata": {},
     "output_type": "execute_result"
    },
    {
     "data": {
      "image/png": "[encoded data removed]",
      "text/plain": [
       "<matplotlib.figure.Figure at 0x9148b70>"
      ]
     },
     "metadata": {},
     "output_type": "display_data"
    }
   ],
   "source": [
    "a.plot.bar()\n",
    "plt.title('优惠商品销量')"
   ]
  },
  {
   "cell_type": "markdown",
   "metadata": {},
   "source": [
    "---\n",
    "\n",
    "研究结论\n",
    "---\n",
    "\n",
    "### 研究总结\n",
    "\n",
    "正常客户：\n",
    "* 占所有客户的44.3%\n",
    "* 年平均登陆257次\n",
    "* 0.75%的客户在注册当天购买\n",
    "* 注册时间与本次购买时间相隔409天\n",
    "* 会员经验平均值1190分\n",
    "* 平均订单15单\n",
    "\n",
    "无价值客户：\n",
    "* 占所有客户的55.6%\n",
    "* 年平均登陆77次\n",
    "* 18.3%的客户在注册当天购买\n",
    "* 注册时间与本次购买时间相隔133天\n",
    "* 会员经验平均值259分\n",
    "* 平均订单2单\n",
    "\n",
    "---\n",
    "\n",
    "### 正常客户和无价值客户的总体差异：\n",
    "\n",
    "相对于正常客户，无价值客户：\n",
    "\n",
    "* 登陆次数**更少**\n",
    "* 会员经验**更少**\n",
    "* 购买订单数**更少**\n",
    "* 注册和购物时间将**更短**\n",
    "* 注册后当天购买的比例**更高**\n",
    "\n",
    "---\n",
    "\n",
    "### 商品优惠分析\n",
    "\n",
    "* 整体看优惠商品的优惠幅度不大，主要集中在5元以下，\n",
    "* 最受欢迎的优惠商品主要是：柑橘、藕、青椒、龙眼等常见蔬菜水果\n",
    "\n",
    "---\n",
    "\n",
    "### 相关建议\n",
    "\n",
    "下订单“稳准快”的无价值客户，不会在正价商品上过多停留，不会花时间去关注除优惠商品以外的其他商品。\n",
    "\n",
    "为了节省优惠营销费用、提高盈利，给出以下建议：\n",
    "\n",
    "* 关联推广\n",
    "    * 在优惠商品处增加原价商品广告，引导客户顺便购买\n",
    "* 打包销售\n",
    "    * 将优惠商品与原价商品打包组合销售\n",
    "* 给予推广部门激励：\n",
    "    * 如果本月将无价值客户的比例从55.6%降至25%，每人奖励一万元"
   ]
  },
  {
   "cell_type": "code",
   "execution_count": null,
   "metadata": {},
   "outputs": [],
   "source": []
  },
  {
   "cell_type": "code",
   "execution_count": null,
   "metadata": {},
   "outputs": [],
   "source": []
  },
  {
   "cell_type": "code",
   "execution_count": null,
   "metadata": {},
   "outputs": [],
   "source": []
  },
  {
   "cell_type": "code",
   "execution_count": null,
   "metadata": {},
   "outputs": [],
   "source": []
  },
  {
   "cell_type": "code",
   "execution_count": null,
   "metadata": {},
   "outputs": [],
   "source": []
  },
  {
   "cell_type": "code",
   "execution_count": null,
   "metadata": {},
   "outputs": [],
   "source": []
  },
  {
   "cell_type": "code",
   "execution_count": null,
   "metadata": {},
   "outputs": [],
   "source": []
  },
  {
   "cell_type": "code",
   "execution_count": null,
   "metadata": {},
   "outputs": [],
   "source": []
  },
  {
   "cell_type": "code",
   "execution_count": null,
   "metadata": {},
   "outputs": [],
   "source": []
  },
  {
   "cell_type": "code",
   "execution_count": null,
   "metadata": {},
   "outputs": [],
   "source": []
  },
  {
   "cell_type": "code",
   "execution_count": null,
   "metadata": {},
   "outputs": [],
   "source": []
  },
  {
   "cell_type": "code",
   "execution_count": null,
   "metadata": {},
   "outputs": [],
   "source": []
  },
  {
   "cell_type": "code",
   "execution_count": null,
   "metadata": {},
   "outputs": [],
   "source": []
  },
  {
   "cell_type": "code",
   "execution_count": null,
   "metadata": {},
   "outputs": [],
   "source": []
  },
  {
   "cell_type": "code",
   "execution_count": null,
   "metadata": {},
   "outputs": [],
   "source": []
  },
  {
   "cell_type": "code",
   "execution_count": null,
   "metadata": {},
   "outputs": [],
   "source": []
  },
  {
   "cell_type": "code",
   "execution_count": null,
   "metadata": {},
   "outputs": [],
   "source": []
  },
  {
   "cell_type": "code",
   "execution_count": null,
   "metadata": {},
   "outputs": [],
   "source": []
  },
  {
   "cell_type": "code",
   "execution_count": null,
   "metadata": {},
   "outputs": [],
   "source": []
  },
  {
   "cell_type": "code",
   "execution_count": null,
   "metadata": {},
   "outputs": [],
   "source": []
  }
 ],
 "metadata": {
  "kernelspec": {
   "display_name": "Python 3",
   "language": "python",
   "name": "python3"
  },
  "language_info": {
   "codemirror_mode": {
    "name": "ipython",
    "version": 3
   },
   "file_extension": ".py",
   "mimetype": "text/x-python",
   "name": "python",
   "nbconvert_exporter": "python",
   "pygments_lexer": "ipython3",
   "version": "3.6.4"
  }
 },
 "nbformat": 4,
 "nbformat_minor": 2
}
