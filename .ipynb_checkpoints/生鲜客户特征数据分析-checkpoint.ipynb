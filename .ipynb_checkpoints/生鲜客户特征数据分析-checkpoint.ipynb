{
 "cells": [
  {
   "cell_type": "code",
   "execution_count": 4,
   "metadata": {},
   "outputs": [],
   "source": [
    "import numpy as np\n",
    "import matplotlib.pyplot as plt\n",
    "import pandas as pd\n",
    "\n",
    "plt.style.use('seaborn')\n",
    "plt.rcParams['font.family'] = ['Arial Unicode MS', 'Microsoft Yahei', 'SimHei', 'sans-serif']\n",
    "\n",
    "%matplotlib inline"
   ]
  },
  {
   "cell_type": "code",
   "execution_count": 7,
   "metadata": {
    "scrolled": false
   },
   "outputs": [
    {
     "data": {
      "text/plain": [
       "OrderedDict([('订单信息',          订单ID    客户ID  订单状态  优惠类型\n",
       "              0       47739    5245     1     0\n",
       "              1      341269    5245     0     0\n",
       "              2       32690    5254     1     0\n",
       "              3       45641    5254     1     0\n",
       "              4       66116    5254     1     0\n",
       "              5       79014    5254     1     0\n",
       "              6       79058    5254     0     0\n",
       "              7       79221    5254     1     0\n",
       "              8       79608    5254     1     0\n",
       "              9      146455    5254     1     0\n",
       "              10     148275    5254     1     0\n",
       "              11     149066    5254     1     1\n",
       "              12     240219    5286     1     1\n",
       "              13     287500    5286     1     0\n",
       "              14     287502    5286     0     0\n",
       "              15     290370    5286     0     0\n",
       "              16     290372    5286     0     0\n",
       "              17     378615    5286     0     0\n",
       "              18     378618    5286     0     0\n",
       "              19     378621    5286     0     0\n",
       "              20      66457    5292     1     0\n",
       "              21     211972    5292     0     1\n",
       "              22     226715    5292     1     0\n",
       "              23     237862    5292     0     1\n",
       "              24     246600    5292     1     0\n",
       "              25     248991    5292     0     1\n",
       "              26     249847    5292     1     1\n",
       "              27     256960    5292     1     1\n",
       "              28     422975    5292     1     0\n",
       "              29     148707    5474     1     0\n",
       "              ...       ...     ...   ...   ...\n",
       "              29120  445946  169197     0     1\n",
       "              29121  442081  169217     1     1\n",
       "              29122  442299  169269     1     1\n",
       "              29123  442333  169276     1     1\n",
       "              29124  442649  169299     0     1\n",
       "              29125  442726  169299     1     1\n",
       "              29126  443197  169318     1     1\n",
       "              29127  444034  169318     1     1\n",
       "              29128  443767  169393     0     1\n",
       "              29129  443770  169393     1     0\n",
       "              29130  443771  169393     1     0\n",
       "              29131  444237  169393     1     0\n",
       "              29132  443940  169445     0     1\n",
       "              29133  444077  169445     1     0\n",
       "              29134  445037  169445     0     0\n",
       "              29135  444721  169598     1     0\n",
       "              29136  445432  169598     0     1\n",
       "              29137  445444  169598     1     1\n",
       "              29138  444984  169613     1     1\n",
       "              29139  445427  169614     1     1\n",
       "              29140  445249  169691     1     1\n",
       "              29141  445279  169699     1     0\n",
       "              29142  447620  169699     1     1\n",
       "              29143  445884  169815     1     1\n",
       "              29144  447102  169832     1     1\n",
       "              29145  446758  169934     1     1\n",
       "              29146  446759  169934     1     0\n",
       "              29147  447165  169976     0     1\n",
       "              29148  447274  169976     0     1\n",
       "              29149  447375  169976     1     1\n",
       "              \n",
       "              [29150 rows x 4 columns]),\n",
       "             ('货物信息',         订单ID    货物ID      货物名称 优惠额度\n",
       "              0     264971  103247  自然乐园水果礼盒  >15\n",
       "              1     264994  103247  自然乐园水果礼盒  >15\n",
       "              2     266829  103247  自然乐园水果礼盒  >15\n",
       "              3     267232  103247  自然乐园水果礼盒  >15\n",
       "              4     269051  103247  自然乐园水果礼盒  >15\n",
       "              5     256809  101645       紫甘蓝  >15\n",
       "              6     256984  101645       紫甘蓝  >15\n",
       "              7     258700  101645       紫甘蓝  >15\n",
       "              8     268496  101645       紫甘蓝  >15\n",
       "              9     268510  101645       紫甘蓝  >15\n",
       "              10    275809  101645       紫甘蓝  >15\n",
       "              11    277573  101645       紫甘蓝  >15\n",
       "              12    284473  101645       紫甘蓝  >15\n",
       "              13    287662  101645       紫甘蓝  >15\n",
       "              14    287668  101645       紫甘蓝  >15\n",
       "              15    289079  101645       紫甘蓝  >15\n",
       "              16    290400  101645       紫甘蓝  >15\n",
       "              17    264515  103306        滋久  >15\n",
       "              18    266465  103306        滋久  >15\n",
       "              19    266994  103306        滋久  >15\n",
       "              20    272357  103306        滋久  >15\n",
       "              21    277529  103306        滋久  >15\n",
       "              22    258249  103305        滋久  >15\n",
       "              23    260035  103305        滋久  >15\n",
       "              24    263743  103305        滋久  >15\n",
       "              25    268881  103305        滋久  >15\n",
       "              26    271752  104052    猪蹄(一只)  >15\n",
       "              27    274915  104052    猪蹄(一只)  >15\n",
       "              28    276892  104052    猪蹄(一只)  >15\n",
       "              29    277573  104052    猪蹄(一只)  >15\n",
       "              ...      ...     ...       ...  ...\n",
       "              3100  284553  102103      冷冻鲜肉    0\n",
       "              3101  284927  102103      冷冻鲜肉    0\n",
       "              3102  285226  102103      冷冻鲜肉    0\n",
       "              3103  285307  102103      冷冻鲜肉    0\n",
       "              3104  285552  102103      冷冻鲜肉    0\n",
       "              3105  286058  102103      冷冻鲜肉    0\n",
       "              3106  286168  102103      冷冻鲜肉    0\n",
       "              3107  286815  102103      冷冻鲜肉    0\n",
       "              3108  287216  102103      冷冻鲜肉    0\n",
       "              3109  287519  102103      冷冻鲜肉    0\n",
       "              3110  291209  102103      冷冻鲜肉    0\n",
       "              3111  291234  102103      冷冻鲜肉    0\n",
       "              3112  291584  102103      冷冻鲜肉    0\n",
       "              3113  292142  102103      冷冻鲜肉    0\n",
       "              3114  284006  104323        牙签    0\n",
       "              3115  263864  103376   500元充值卡    0\n",
       "              3116  268178  103376   500元充值卡    0\n",
       "              3117  268277  103376   500元充值卡    0\n",
       "              3118  285796  103376   500元充值卡    0\n",
       "              3119  286098  103376   500元充值卡    0\n",
       "              3120  257077  103376   500元充值卡    0\n",
       "              3121  261240  103376   500元充值卡    0\n",
       "              3122  265594  103376   500元充值卡    0\n",
       "              3123  265982  103376   500元充值卡    0\n",
       "              3124  266432  103376   500元充值卡    0\n",
       "              3125  282903  103376   500元充值卡    0\n",
       "              3126  283994  103376   500元充值卡    0\n",
       "              3127  284171  103376   500元充值卡    0\n",
       "              3128  256095  103376   500元充值卡    0\n",
       "              3129  256499  103376   500元充值卡    0\n",
       "              \n",
       "              [3130 rows x 4 columns]),\n",
       "             ('顾客信息',\n",
       "                      客户ID   登陆次数  注册时间(距1970-1-1的秒数)  本次购买时间(距1970-1-1的秒数)    经验值  订单数\n",
       "              0       5245     55          1430413266            1495339734    206    1\n",
       "              1       5254     69          1430413266            1499041945    428   13\n",
       "              2       5286     57          1430413266            1509936376    280    1\n",
       "              3       5292    184          1430413266            1510135868    643    5\n",
       "              4       5474     71          1430413266            1481185064     61    2\n",
       "              5       5544    520          1430413266            1511065463   5033  103\n",
       "              6       5547     30          1430413266            1510577047    477    8\n",
       "              7       5552   2699          1430413266            1511245956  12673  164\n",
       "              8       5560     39          1430413266            1481811865     27    0\n",
       "              9       5580    137          1430413266            1506301413    236    2\n",
       "              10      5625    463          1430413266            1510935255   2087   14\n",
       "              11      5628    356          1430413266            1511145498  11494  166\n",
       "              12      5661  11675          1430413266            1511224143  34701  487\n",
       "              13      5690   1769          1430413266            1511175196  13398  182\n",
       "              14      5699    634          1430413266            1510274405   8415  121\n",
       "              15      5701     94          1430413266            1481201883    512    8\n",
       "              16      5723     29          1430413266            1488960790    163    2\n",
       "              17      5725   1372          1430413266            1510625605   9243  126\n",
       "              18      5726   1576          1430413266            1511162452  13078  193\n",
       "              19      5727    102          1430413266            1510223946   2574   37\n",
       "              20      5728    164          1430413266            1498397004    863   16\n",
       "              21      5734   1193          1430413266            1511169496   6852   86\n",
       "              22      5740    826          1430413266            1506164574   2309   19\n",
       "              23      5767     80          1430413266            1506216500   1681   17\n",
       "              24      5785     62          1430413266            1506783217    249    5\n",
       "              25      5789    170          1430413266            1511140849   1373   20\n",
       "              26      5804    730          1430413266            1511190699   2851   28\n",
       "              27      5816    374          1430413266            1508748129   1225   15\n",
       "              28      5880    206          1430413266            1511146306   3913   70\n",
       "              29      5912    288          1430413266            1510033445   1755   26\n",
       "              ...      ...    ...                 ...                   ...    ...  ...\n",
       "              2970  168758     18          1510124356            1510960789    105    2\n",
       "              2971  168792     15          1510136872            1510661772     60    1\n",
       "              2972  168831     78          1510182960            1511241351    635   10\n",
       "              2973  168834     12          1510187047            1511239077    102    3\n",
       "              2974  168948      6          1510233924            1510234362     48    1\n",
       "              2975  168976      7          1510275950            1511166273     66    3\n",
       "              2976  168981     30          1510278673            1511184888    146    2\n",
       "              2977  168991      6          1510280818            1510456811    129    3\n",
       "              2978  169031     10          1510287019            1510613142     27    1\n",
       "              2979  169049      7          1510292348            1510392612     43    1\n",
       "              2980  169084     11          1510303482            1510927533     94    1\n",
       "              2981  169106     23          1510312431            1511054357    215    2\n",
       "              2982  169132     18          1510324837            1511090706     75    2\n",
       "              2983  169197     38          1510373093            1510890780     66    1\n",
       "              2984  169217     28          1510377281            1510877581     38    1\n",
       "              2985  169269      4          1510388952            1510388952      7    1\n",
       "              2986  169276      6          1510391145            1511008391     50    1\n",
       "              2987  169299      9          1510397978            1511187978     27    1\n",
       "              2988  169318      8          1510407061            1510615622    154    2\n",
       "              2989  169393     14          1510464820            1511147607    187    3\n",
       "              2990  169445     13          1510487420            1510645072     84    1\n",
       "              2991  169598     35          1510618726            1510983354     63    2\n",
       "              2992  169613     11          1510627070            1510746988     12    1\n",
       "              2993  169614      9          1510627121            1510889773     33    1\n",
       "              2994  169691      6          1510657422            1510706666     73    1\n",
       "              2995  169699     20          1510662595            1511217077    153    3\n",
       "              2996  169815     13          1510753437            1511159975     57    1\n",
       "              2997  169832     12          1510793074            1511142183     62    1\n",
       "              2998  169934     14          1510841381            1510971292     68    2\n",
       "              2999  169976     16          1510908302            1511184987     27    1\n",
       "              \n",
       "              [3000 rows x 6 columns])])"
      ]
     },
     "execution_count": 7,
     "metadata": {},
     "output_type": "execute_result"
    }
   ],
   "source": [
    "# 数取数据\n",
    "shop = pd.read_excel('shopmall.xlsx', None)\n",
    "shop"
   ]
  },
  {
   "cell_type": "code",
   "execution_count": null,
   "metadata": {},
   "outputs": [],
   "source": []
  },
  {
   "cell_type": "code",
   "execution_count": null,
   "metadata": {},
   "outputs": [],
   "source": []
  },
  {
   "cell_type": "code",
   "execution_count": null,
   "metadata": {},
   "outputs": [],
   "source": []
  },
  {
   "cell_type": "code",
   "execution_count": null,
   "metadata": {},
   "outputs": [],
   "source": []
  },
  {
   "cell_type": "code",
   "execution_count": null,
   "metadata": {},
   "outputs": [],
   "source": []
  },
  {
   "cell_type": "code",
   "execution_count": null,
   "metadata": {},
   "outputs": [],
   "source": []
  },
  {
   "cell_type": "code",
   "execution_count": null,
   "metadata": {},
   "outputs": [],
   "source": []
  },
  {
   "cell_type": "code",
   "execution_count": null,
   "metadata": {},
   "outputs": [],
   "source": []
  },
  {
   "cell_type": "code",
   "execution_count": null,
   "metadata": {},
   "outputs": [],
   "source": []
  },
  {
   "cell_type": "code",
   "execution_count": null,
   "metadata": {},
   "outputs": [],
   "source": []
  },
  {
   "cell_type": "code",
   "execution_count": null,
   "metadata": {},
   "outputs": [],
   "source": []
  },
  {
   "cell_type": "code",
   "execution_count": null,
   "metadata": {},
   "outputs": [],
   "source": []
  },
  {
   "cell_type": "code",
   "execution_count": null,
   "metadata": {},
   "outputs": [],
   "source": []
  },
  {
   "cell_type": "code",
   "execution_count": null,
   "metadata": {},
   "outputs": [],
   "source": []
  },
  {
   "cell_type": "code",
   "execution_count": null,
   "metadata": {},
   "outputs": [],
   "source": []
  },
  {
   "cell_type": "code",
   "execution_count": null,
   "metadata": {},
   "outputs": [],
   "source": []
  },
  {
   "cell_type": "code",
   "execution_count": null,
   "metadata": {},
   "outputs": [],
   "source": []
  },
  {
   "cell_type": "code",
   "execution_count": null,
   "metadata": {},
   "outputs": [],
   "source": []
  },
  {
   "cell_type": "code",
   "execution_count": null,
   "metadata": {},
   "outputs": [],
   "source": []
  },
  {
   "cell_type": "code",
   "execution_count": null,
   "metadata": {},
   "outputs": [],
   "source": []
  },
  {
   "cell_type": "code",
   "execution_count": null,
   "metadata": {},
   "outputs": [],
   "source": []
  },
  {
   "cell_type": "code",
   "execution_count": null,
   "metadata": {},
   "outputs": [],
   "source": []
  },
  {
   "cell_type": "code",
   "execution_count": null,
   "metadata": {},
   "outputs": [],
   "source": []
  },
  {
   "cell_type": "code",
   "execution_count": null,
   "metadata": {},
   "outputs": [],
   "source": []
  },
  {
   "cell_type": "code",
   "execution_count": null,
   "metadata": {},
   "outputs": [],
   "source": []
  },
  {
   "cell_type": "code",
   "execution_count": null,
   "metadata": {},
   "outputs": [],
   "source": []
  },
  {
   "cell_type": "code",
   "execution_count": null,
   "metadata": {},
   "outputs": [],
   "source": []
  },
  {
   "cell_type": "code",
   "execution_count": null,
   "metadata": {},
   "outputs": [],
   "source": []
  },
  {
   "cell_type": "code",
   "execution_count": null,
   "metadata": {},
   "outputs": [],
   "source": []
  },
  {
   "cell_type": "code",
   "execution_count": null,
   "metadata": {},
   "outputs": [],
   "source": []
  },
  {
   "cell_type": "code",
   "execution_count": null,
   "metadata": {},
   "outputs": [],
   "source": []
  },
  {
   "cell_type": "code",
   "execution_count": null,
   "metadata": {},
   "outputs": [],
   "source": []
  },
  {
   "cell_type": "code",
   "execution_count": null,
   "metadata": {},
   "outputs": [],
   "source": []
  },
  {
   "cell_type": "code",
   "execution_count": null,
   "metadata": {},
   "outputs": [],
   "source": []
  },
  {
   "cell_type": "code",
   "execution_count": null,
   "metadata": {},
   "outputs": [],
   "source": []
  },
  {
   "cell_type": "code",
   "execution_count": null,
   "metadata": {},
   "outputs": [],
   "source": []
  },
  {
   "cell_type": "code",
   "execution_count": null,
   "metadata": {},
   "outputs": [],
   "source": []
  },
  {
   "cell_type": "code",
   "execution_count": null,
   "metadata": {},
   "outputs": [],
   "source": []
  },
  {
   "cell_type": "code",
   "execution_count": null,
   "metadata": {},
   "outputs": [],
   "source": []
  },
  {
   "cell_type": "code",
   "execution_count": null,
   "metadata": {},
   "outputs": [],
   "source": []
  },
  {
   "cell_type": "code",
   "execution_count": null,
   "metadata": {},
   "outputs": [],
   "source": []
  },
  {
   "cell_type": "code",
   "execution_count": null,
   "metadata": {},
   "outputs": [],
   "source": []
  },
  {
   "cell_type": "code",
   "execution_count": null,
   "metadata": {},
   "outputs": [],
   "source": []
  },
  {
   "cell_type": "code",
   "execution_count": null,
   "metadata": {},
   "outputs": [],
   "source": []
  }
 ],
 "metadata": {
  "kernelspec": {
   "display_name": "Python 3",
   "language": "python",
   "name": "python3"
  },
  "language_info": {
   "codemirror_mode": {
    "name": "ipython",
    "version": 3
   },
   "file_extension": ".py",
   "mimetype": "text/x-python",
   "name": "python",
   "nbconvert_exporter": "python",
   "pygments_lexer": "ipython3",
   "version": "3.6.4"
  }
 },
 "nbformat": 4,
 "nbformat_minor": 2
}
